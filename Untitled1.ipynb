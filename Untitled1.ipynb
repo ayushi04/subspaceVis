{
 "cells": [
  {
   "cell_type": "code",
   "execution_count": 1,
   "metadata": {},
   "outputs": [],
   "source": [
    "import seaborn as sns\n",
    "import pandas as pd\n",
    "import numpy as np\n",
    "import math\n",
    "from sklearn.neighbors import NearestNeighbors\n",
    "import matplotlib.pyplot as plt\n",
    "import operator\n",
    "from PIL import Image\n",
    "import sys\n",
    "import webcolors as wb\n",
    "knn=50\n",
    "\n",
    "from sklearn import preprocessing\n",
    "from sklearn.preprocessing import StandardScaler,MinMaxScaler\n"
   ]
  },
  {
   "cell_type": "code",
   "execution_count": 2,
   "metadata": {},
   "outputs": [],
   "source": [
    "# 1. assume that points are ordered, create map_dict of color and subspace\n",
    "# 2. create map_dict2 of color and value in matrix\n",
    "# 3. create Heidi image for a given subspace\n"
   ]
  },
  {
   "cell_type": "code",
   "execution_count": 10,
   "metadata": {},
   "outputs": [],
   "source": [
    "# 1. assume that points are ordered, create map_dict of color and subspace\n",
    "all_subspaces=[[True,False,False],[True,False,True]]\n",
    "nofdims=3\n",
    "cluster_colors = [[51,98,107],  [240,74,28],  [219,65,226],  [72,198,33],  [96,56,90],  [62,86,23],  [112,146,236],  [241,63,122],  [190,169,39],  [118,54,14],  [217,155,187],  [71,190,192],  [227,147,102],  [118,180,101],  [159,47,132],  [216,133,224],  [107,78,181],  [174,37,43],  [73,98,152],  [232,127,43],  [194,103,105],  [97,177,216],  [170,121,34],  [163,165,86],  [56,103,72],  [54,158,43],  [86,59,28],  [224,57,163],  [177,95,231],  [232,102,155],  [95,188,156],  [156,91,152],  [117,45,66],  [114,119,28],  [161,69,179],  [69,69,86],  [167,110,81],  [150,167,219],  [131,47,44],  [62,143,155],  [128,106,143],  [234,93,83],  [230,100,220],  [191,153,224],  [195,154,89],  [99,85,21],  [228,157,51],  [169,54,77],  [73,62,122],  [193,98,71],  [115,43,104],  [131,112,234],  [125,195,50],  [188,48,20],  [222,53,85],  [168,51,109],  [99,128,154],  [134,157,43],  [46,107,25],  [226,105,185],  [70,192,134],  [174,114,139],  [134,180,193],  [75,149,213],  [70,187,98],  [232,47,190],  [236,60,58],  [34,74,67],  [158,110,200],  [232,102,119],  [59,132,121],  [66,111,214],  [78,128,73],  [233,44,138],  [128,120,61],  [149,94,36],  [166,145,190],  [96,105,180],  [88,159,115],  [50,76,111],  [218,125,167],  [238,142,139],  [186,50,166],  [94,64,146],  [169,185,45],  [155,61,26],  [115,62,44],  [69,74,32],  [200,161,68],  [209,99,43],  [151,80,97],  [95,135,50],  [105,165,49],  [237,122,97],  [37,77,33],  [161,186,94],  [64,206,71],  [122,80,102],  [202,44,105],  [115,82,40]  ];\n",
    "map_dict = {}\n",
    "c=0\n",
    "for i in all_subspaces:\n",
    "    temp = [j for j,x in enumerate(i) if x]\n",
    "    map_dict[tuple(temp)] = cluster_colors[c]\n",
    "    c=c+1\n",
    "\n",
    "\n"
   ]
  },
  {
   "cell_type": "code",
   "execution_count": 11,
   "metadata": {},
   "outputs": [
    {
     "data": {
      "text/plain": [
       "{(0,): [51, 98, 107], (0, 2): [240, 74, 28]}"
      ]
     },
     "execution_count": 11,
     "metadata": {},
     "output_type": "execute_result"
    }
   ],
   "source": [
    "map_dict"
   ]
  },
  {
   "cell_type": "code",
   "execution_count": 19,
   "metadata": {},
   "outputs": [
    {
     "name": "stdout",
     "output_type": "stream",
     "text": [
      "[0]\n",
      "[1]\n",
      "[2]\n",
      "[0, 1]\n",
      "[0, 2]\n",
      "[1, 2]\n",
      "[0, 1, 2]\n"
     ]
    }
   ],
   "source": [
    "max_count=int(math.pow(2,nofdims))\n",
    "allsubspaces=range(1,max_count)\n",
    "f=lambda a:sorted(a,key=lambda x:sum(int(d)for d in bin(x)[2:]))\n",
    "allsubspaces=f(allsubspaces)\n",
    "\n",
    "frmt=str(nofdims)+'b'\n",
    "factor=1\n",
    "bit_subspace={}\n",
    "count=0\n",
    "\n",
    "for i in allsubspaces:\n",
    "    bin_value=str(format(i,frmt))\n",
    "    bin_value=bin_value[::-1]\n",
    "    subspace_col=[index for index,value in enumerate(bin_value) if value=='1']\n",
    "    print(subspace_col)\n",
    "    if(tuple(subspace_col) in map_dict):\n",
    "        bit_subspace[factor]=tuple(subspace_col)\n",
    "        factor = factor*2\n"
   ]
  },
  {
   "cell_type": "code",
   "execution_count": 20,
   "metadata": {},
   "outputs": [
    {
     "data": {
      "text/plain": [
       "{1: (0,), 2: (0, 2)}"
      ]
     },
     "execution_count": 20,
     "metadata": {},
     "output_type": "execute_result"
    }
   ],
   "source": [
    "bit_subspace"
   ]
  },
  {
   "cell_type": "code",
   "execution_count": null,
   "metadata": {},
   "outputs": [],
   "source": []
  }
 ],
 "metadata": {
  "kernelspec": {
   "display_name": "Python 3",
   "language": "python",
   "name": "python3"
  },
  "language_info": {
   "codemirror_mode": {
    "name": "ipython",
    "version": 3
   },
   "file_extension": ".py",
   "mimetype": "text/x-python",
   "name": "python",
   "nbconvert_exporter": "python",
   "pygments_lexer": "ipython3",
   "version": "3.7.1"
  }
 },
 "nbformat": 4,
 "nbformat_minor": 2
}
