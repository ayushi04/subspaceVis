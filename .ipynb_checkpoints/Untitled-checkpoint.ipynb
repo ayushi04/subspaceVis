{
 "cells": [
  {
   "cell_type": "code",
   "execution_count": 1,
   "metadata": {},
   "outputs": [],
   "source": [
    "import seaborn as sns\n",
    "import pandas as pd\n",
    "import numpy as np\n",
    "import math\n",
    "from sklearn.neighbors import NearestNeighbors\n",
    "import matplotlib.pyplot as plt\n",
    "import operator\n",
    "from PIL import Image\n",
    "import sys\n",
    "import webcolors as wb\n",
    "knn=50\n",
    "\n",
    "from sklearn import preprocessing\n",
    "from sklearn.preprocessing import StandardScaler,MinMaxScaler\n",
    "\n",
    "import  heidiHelper as hh\n",
    "import orderPoints as op"
   ]
  },
  {
   "cell_type": "code",
   "execution_count": 2,
   "metadata": {},
   "outputs": [],
   "source": [
    "def generateHeidiMatrixResults_noorder(inputData,k=20):\n",
    "    factor=1\n",
    "    knn=k\n",
    "    bit_subspace={}\n",
    "    row=inputData.shape[0]\n",
    "    count=0\n",
    "    heidi_matrix=np.zeros(shape=(row,row),dtype=np.uint64)\n",
    "    max_count=int(math.pow(2,inputData.shape[1]-1))\n",
    "    allsubspaces=range(1,max_count)\n",
    "    f=lambda a:sorted(a,key=lambda x:sum(int(d)for d in bin(x)[2:]))\n",
    "    allsubspaces=f(allsubspaces)\n",
    "    #print(allsubspaces)\n",
    "    frmt=str(inputData.shape[1]-1)+'b'\n",
    "    factor=1\n",
    "    bit_subspace={}\n",
    "    count=0\n",
    "    #print('knn:',knn)\n",
    "\n",
    "    for i in allsubspaces:\n",
    "        bin_value=str(format(i,frmt))\n",
    "        bin_value=bin_value[::-1]\n",
    "        subspace_col=[index for index,value in enumerate(bin_value) if value=='1']\n",
    "\n",
    "        filtered_data=inputData.iloc[:,subspace_col+[-1]] #NEED TO CHANGE IF COL IS A LIST\n",
    "        filtered_data['classLabel_orig']=filtered_data['classLabel'].values\n",
    "        sorted_data=filtered_data\n",
    "        subspace=sorted_data.iloc[:,:-2]\n",
    "        np_subspace=subspace.values#NEED TO CHANGE IF COL IS A LIST\n",
    "        #print(np_subspace.shape)\n",
    "        nbrs=NearestNeighbors(n_neighbors=knn,algorithm='ball_tree').fit(np_subspace)\n",
    "        temp=nbrs.kneighbors_graph(np_subspace).toarray()\n",
    "        temp=temp.astype(np.uint64)\n",
    "        heidi_matrix=heidi_matrix + temp*factor\n",
    "        factor=factor*2\n",
    "        subspace_col_name=[inputData.columns[j] for j in subspace_col]\n",
    "        #print(i,subspace_col_name)\n",
    "        bit_subspace[count]=subspace_col_name\n",
    "        count+=1\n",
    "    return heidi_matrix,bit_subspace,sorted_data\n",
    "\n",
    "def generateHeidiMatrixResults_noorder_helper(heidi_matrix,bit_subspace,outputPath,sorted_data,legend_name,val_map={},mapping_dict={}):\n",
    "    if(val_map=={}) : map_dict,all_info=hh.getMappingDict(heidi_matrix,bit_subspace)\n",
    "    else:\n",
    "        #map_dict,all_info=hh.getMappingDict(heidi_matrix,bit_subspace)\n",
    "        map_dict,all_info=hh.getMappingDictClosedImg(heidi_matrix,bit_subspace,val_map,mapping_dict)\n",
    "\n",
    "    #print(map_dict,all_info)\n",
    "    \n",
    "    hh.createLegend(map_dict,all_info,outputPath+'/'+legend_name+'.html')\n",
    "    \n",
    "    dict1=hh.dictForDatabase(map_dict,all_info)\n",
    "    img,imgarray=hh.generateHeidiImage(heidi_matrix,map_dict)\n",
    "    print('1-------------------------------------------------------')\n",
    "    hh.saveHeidiImage(img,outputPath,'img_bea.png')\n",
    "    print('2-------------------------------------------------------')\n",
    "    array=sorted_data['classLabel'].values\n",
    "    print('3-------------------------------------------------------')\n",
    "    algo1_bar,t=hh.createBar(array)\n",
    "    hh.visualizeConsolidatedImage(imgarray,algo1_bar,outputPath+'/consolidated_img.png')\n",
    "    print('visualized consolidated image')\n",
    "    \n",
    "    return img,dict1\n",
    "\n",
    "\n",
    "def orderPoints(filtered_data):\n",
    "    #---------------2. ORDERING POINTS ----------------------------------------------\n",
    "    dim = filtered_data.columns[:-1]\n",
    "    dim=dim[1:]\n",
    "    data = filtered_data.copy()\n",
    "    filtered_data['classLabel_orig']=filtered_data['classLabel'].values\n",
    "    # IF ORDERDIM LENGTH =1 THEN ORDERING BY SORTED ORDER ELSE SOME OTHER ORDERING SCHEMA\n",
    "    print('dim',dim)\n",
    "    if len(dim)==1:\n",
    "        param={}\n",
    "        param['columns']=list(filtered_data.columns[:-1])\n",
    "        param['order']=[True for i in param['columns']]\n",
    "        sorted_data=op.sortbasedOnclassLabel(filtered_data,'dimension',param)\n",
    "        # REINDEXING THE INPUT DATA (TO BE USED LATER)\n",
    "        sorting_order=sorted_data.index\n",
    "        data=data.reindex(sorting_order)\n",
    "    else:\n",
    "        print('mst ordering')\n",
    "        param={}\n",
    "        sorted_data=op.sortbasedOnclassLabel(filtered_data,'knn_bfs',param)#'mst_distance' #connected_distance\n",
    "        #sorted_data=op.sortbasedOnclassLabel(filtered_data,'euclidian_distance',param)\n",
    "        sorting_order=sorted_data.index\n",
    "        data=data.reindex(sorting_order)\n",
    "    return data\n"
   ]
  },
  {
   "cell_type": "code",
   "execution_count": 3,
   "metadata": {},
   "outputs": [],
   "source": [
    "df = pd.read_csv('C:\\\\Users\\\\t-aygupt\\\\Desktop\\\\uploads\\\\iris.csv')"
   ]
  },
  {
   "cell_type": "code",
   "execution_count": 31,
   "metadata": {},
   "outputs": [
    {
     "name": "stderr",
     "output_type": "stream",
     "text": [
      "C:\\Users\\t-aygupt\\AppData\\Local\\Continuum\\anaconda3\\envs\\venv1\\lib\\site-packages\\ipykernel_launcher.py:10: SettingWithCopyWarning: \n",
      "A value is trying to be set on a copy of a slice from a DataFrame.\n",
      "Try using .loc[row_indexer,col_indexer] = value instead\n",
      "\n",
      "See the caveats in the documentation: http://pandas.pydata.org/pandas-docs/stable/indexing.html#indexing-view-versus-copy\n",
      "  # Remove the CWD from sys.path while we load stuff.\n",
      "C:\\Users\\t-aygupt\\AppData\\Local\\Continuum\\anaconda3\\envs\\venv1\\lib\\site-packages\\ipykernel_launcher.py:11: SettingWithCopyWarning: \n",
      "A value is trying to be set on a copy of a slice from a DataFrame.\n",
      "Try using .loc[row_indexer,col_indexer] = value instead\n",
      "\n",
      "See the caveats in the documentation: http://pandas.pydata.org/pandas-docs/stable/indexing.html#indexing-view-versus-copy\n",
      "  # This is added back by InteractiveShellApp.init_path()\n"
     ]
    }
   ],
   "source": []
  },
  {
   "cell_type": "code",
   "execution_count": 32,
   "metadata": {},
   "outputs": [
    {
     "data": {
      "text/plain": [
       "array([[1, 1, 1, ..., 0, 0, 0],\n",
       "       [1, 1, 1, ..., 0, 0, 0],\n",
       "       [1, 1, 1, ..., 0, 0, 0],\n",
       "       ...,\n",
       "       [0, 0, 0, ..., 1, 1, 1],\n",
       "       [0, 0, 0, ..., 1, 1, 1],\n",
       "       [0, 0, 0, ..., 1, 1, 1]], dtype=uint64)"
      ]
     },
     "execution_count": 32,
     "metadata": {},
     "output_type": "execute_result"
    }
   ],
   "source": [
    "heidi_matrix"
   ]
  },
  {
   "cell_type": "code",
   "execution_count": 47,
   "metadata": {},
   "outputs": [],
   "source": [
    "import heidiVisualization as hv"
   ]
  },
  {
   "cell_type": "code",
   "execution_count": 48,
   "metadata": {},
   "outputs": [
    {
     "name": "stderr",
     "output_type": "stream",
     "text": [
      "C:\\Users\\t-aygupt\\Documents\\GitHub\\subspaceVis\\heidiVisualization.py:127: SettingWithCopyWarning: \n",
      "A value is trying to be set on a copy of a slice from a DataFrame.\n",
      "Try using .loc[row_indexer,col_indexer] = value instead\n",
      "\n",
      "See the caveats in the documentation: http://pandas.pydata.org/pandas-docs/stable/indexing.html#indexing-view-versus-copy\n",
      "  filtered_data[classLabelname]=df[classLabelname].copy()\n",
      "C:\\Users\\t-aygupt\\Documents\\GitHub\\subspaceVis\\heidiVisualization.py:128: SettingWithCopyWarning: \n",
      "A value is trying to be set on a copy of a slice from a DataFrame.\n",
      "Try using .loc[row_indexer,col_indexer] = value instead\n",
      "\n",
      "See the caveats in the documentation: http://pandas.pydata.org/pandas-docs/stable/indexing.html#indexing-view-versus-copy\n",
      "  filtered_data['classLabel_orig']=filtered_data[classLabelname].values\n"
     ]
    }
   ],
   "source": [
    "matrix = hv.get_heidi_input_subspace_noroder(df,[True, False,True,False])"
   ]
  },
  {
   "cell_type": "code",
   "execution_count": 50,
   "metadata": {},
   "outputs": [],
   "source": [
    "matrix"
   ]
  },
  {
   "cell_type": "code",
   "execution_count": 2,
   "metadata": {},
   "outputs": [],
   "source": [
    "from skimage.measure import compare_ssim\n",
    "import imutils\n",
    "import cv2"
   ]
  },
  {
   "cell_type": "code",
   "execution_count": 22,
   "metadata": {},
   "outputs": [],
   "source": [
    "img1 = cv2.imread('C:\\\\Users\\\\t-aygupt\\\\Documents\\\\GitHub\\\\subspaceVis\\\\img_0.png')\n",
    "img2 = cv2.imread('C:\\\\Users\\\\t-aygupt\\\\Documents\\\\GitHub\\\\subspaceVis\\\\img_4.png')\n",
    "g1 = cv2.cvtColor(img1,cv2.COLOR_BGR2GRAY)\n",
    "g2 = cv2.cvtColor(img2,cv2.COLOR_BGR2GRAY)\n",
    "g1[g1>0]=255\n",
    "g2[g2>0]=255\n",
    "(score,diff) = compare_ssim(g1,g2,full=True)\n"
   ]
  },
  {
   "cell_type": "code",
   "execution_count": 23,
   "metadata": {},
   "outputs": [
    {
     "data": {
      "text/plain": [
       "1.0"
      ]
     },
     "execution_count": 23,
     "metadata": {},
     "output_type": "execute_result"
    }
   ],
   "source": [
    "score"
   ]
  },
  {
   "cell_type": "code",
   "execution_count": 18,
   "metadata": {},
   "outputs": [],
   "source": [
    "\n",
    "def mse(imageA, imageB):\n",
    "    # the 'Mean Squared Error' between the two images is the\n",
    "    # sum of the squared difference between the two images;\n",
    "    # NOTE: the two images must have the same dimension\n",
    "    err = np.sum((imageA.astype(\"float\") - imageB.astype(\"float\")) ** 2)\n",
    "    err /= float(imageA.shape[0] * imageA.shape[1])\n",
    "\n",
    "    # return the MSE, the lower the error, the more \"similar\"\n",
    "    # the two images are\n",
    "    return err"
   ]
  },
  {
   "cell_type": "code",
   "execution_count": 19,
   "metadata": {},
   "outputs": [],
   "source": []
  },
  {
   "cell_type": "code",
   "execution_count": 20,
   "metadata": {},
   "outputs": [],
   "source": [
    "(score,diff) = compare_ssim(g1,g2,full=True)"
   ]
  },
  {
   "cell_type": "code",
   "execution_count": 21,
   "metadata": {},
   "outputs": [
    {
     "data": {
      "text/plain": [
       "1.0"
      ]
     },
     "execution_count": 21,
     "metadata": {},
     "output_type": "execute_result"
    }
   ],
   "source": [
    "score"
   ]
  },
  {
   "cell_type": "code",
   "execution_count": null,
   "metadata": {},
   "outputs": [],
   "source": []
  }
 ],
 "metadata": {
  "kernelspec": {
   "display_name": "Python 3",
   "language": "python",
   "name": "python3"
  },
  "language_info": {
   "codemirror_mode": {
    "name": "ipython",
    "version": 3
   },
   "file_extension": ".py",
   "mimetype": "text/x-python",
   "name": "python",
   "nbconvert_exporter": "python",
   "pygments_lexer": "ipython3",
   "version": "3.6.7"
  }
 },
 "nbformat": 4,
 "nbformat_minor": 2
}
